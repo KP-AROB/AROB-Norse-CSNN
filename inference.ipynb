{
 "cells": [
  {
   "cell_type": "code",
   "execution_count": 9,
   "metadata": {},
   "outputs": [],
   "source": [
    "import torch\n",
    "from src.utils.parameters import load_parameters, instanciate_cls\n",
    "from src.models.classification import CLSModel\n",
    "from src.utils.decoders import softmax_decoder\n",
    "from src.utils.dataloaders import load_mnist_dataloader\n",
    "\n",
    "parameter_file ='./params/mnist.yaml'\n",
    "params = load_parameters(parameter_file)\n",
    "\n",
    "xp_params = params['experiment']['parameters']\n",
    "data_params = params['dataset']['parameters']\n",
    "net_params = params['network']['parameters']\n",
    "enc_params = params['encoder']['parameters']\n",
    "\n",
    "gpu = torch.cuda.is_available()"
   ]
  },
  {
   "cell_type": "code",
   "execution_count": 10,
   "metadata": {},
   "outputs": [],
   "source": [
    "DEVICE = \"cpu\"\n",
    "input_encoder = instanciate_cls(\n",
    "    params['encoder']['module'], params['encoder']['name'], enc_params)\n",
    "\n",
    "net = instanciate_cls('src.networks.classification',\n",
    "                        params['network']['name'], net_params)\n",
    "\n",
    "model = CLSModel(\n",
    "    encoder=input_encoder,\n",
    "    snn=net,\n",
    "    decoder=softmax_decoder\n",
    ").to(DEVICE)\n"
   ]
  },
  {
   "cell_type": "code",
   "execution_count": 11,
   "metadata": {},
   "outputs": [
    {
     "data": {
      "text/plain": [
       "CLSModel(\n",
       "  (encoder): ConstantCurrentLIFEncoder()\n",
       "  (snn): DoubleConvNet(\n",
       "    (conv1): Conv2d(1, 32, kernel_size=(3, 3), stride=(1, 1))\n",
       "    (conv2): Conv2d(32, 64, kernel_size=(3, 3), stride=(1, 1))\n",
       "    (fc): Linear(in_features=1600, out_features=64, bias=True)\n",
       "    (out): LILinearCell()\n",
       "    (lif0): LIFCell(p=LIFParameters(tau_syn_inv=tensor(200.), tau_mem_inv=tensor(100.), v_leak=tensor(0.), v_th=tensor(1.), v_reset=tensor(0.), method='super', alpha=tensor(80)), dt=0.001)\n",
       "    (lif1): LIFCell(p=LIFParameters(tau_syn_inv=tensor(200.), tau_mem_inv=tensor(100.), v_leak=tensor(0.), v_th=tensor(1.), v_reset=tensor(0.), method='super', alpha=tensor(80)), dt=0.001)\n",
       "    (lif2): LIFCell(p=LIFParameters(tau_syn_inv=tensor(200.), tau_mem_inv=tensor(100.), v_leak=tensor(0.), v_th=tensor(1.), v_reset=tensor(0.), method='super', alpha=tensor(80)), dt=0.001)\n",
       "  )\n",
       ")"
      ]
     },
     "execution_count": 11,
     "metadata": {},
     "output_type": "execute_result"
    }
   ],
   "source": [
    "model"
   ]
  },
  {
   "cell_type": "code",
   "execution_count": 15,
   "metadata": {},
   "outputs": [],
   "source": [
    "model.load_state_dict(torch.load(\"./logs/MNIST - 3b5e60ac/checkpoint.pth\", weights_only=True))\n",
    "model.eval()\n",
    "train_dl, test_dl, _ = load_mnist_dataloader('./data', image_size=data_params['resize'], batch_size=1, gpu=gpu)\n",
    "batch = train_dl.dataset[90]"
   ]
  },
  {
   "cell_type": "code",
   "execution_count": 16,
   "metadata": {},
   "outputs": [
    {
     "data": {
      "text/plain": [
       "CLSModel(\n",
       "  (encoder): ConstantCurrentLIFEncoder()\n",
       "  (snn): DoubleConvNet(\n",
       "    (conv1): Conv2d(1, 32, kernel_size=(3, 3), stride=(1, 1))\n",
       "    (conv2): Conv2d(32, 64, kernel_size=(3, 3), stride=(1, 1))\n",
       "    (fc): Linear(in_features=1600, out_features=64, bias=True)\n",
       "    (out): LILinearCell()\n",
       "    (lif0): LIFCell(p=LIFParameters(tau_syn_inv=tensor(200.), tau_mem_inv=tensor(100.), v_leak=tensor(0.), v_th=tensor(1.), v_reset=tensor(0.), method='super', alpha=tensor(80)), dt=0.001)\n",
       "    (lif1): LIFCell(p=LIFParameters(tau_syn_inv=tensor(200.), tau_mem_inv=tensor(100.), v_leak=tensor(0.), v_th=tensor(1.), v_reset=tensor(0.), method='super', alpha=tensor(80)), dt=0.001)\n",
       "    (lif2): LIFCell(p=LIFParameters(tau_syn_inv=tensor(200.), tau_mem_inv=tensor(100.), v_leak=tensor(0.), v_th=tensor(1.), v_reset=tensor(0.), method='super', alpha=tensor(80)), dt=0.001)\n",
       "  )\n",
       ")"
      ]
     },
     "execution_count": 16,
     "metadata": {},
     "output_type": "execute_result"
    }
   ],
   "source": [
    "model"
   ]
  },
  {
   "cell_type": "code",
   "execution_count": 17,
   "metadata": {},
   "outputs": [
    {
     "name": "stdout",
     "output_type": "stream",
     "text": [
      "Input given is : 6\n",
      "Input predicted is : 6\n"
     ]
    }
   ],
   "source": [
    "print('Input given is : {}'.format(batch[1]))\n",
    "output = model(batch[0])\n",
    "pred = output.argmax(dim=1, keepdim=True)\n",
    "print('Input predicted is : {}'.format(pred[0][0]))"
   ]
  }
 ],
 "metadata": {
  "kernelspec": {
   "display_name": "norse",
   "language": "python",
   "name": "python3"
  },
  "language_info": {
   "codemirror_mode": {
    "name": "ipython",
    "version": 3
   },
   "file_extension": ".py",
   "mimetype": "text/x-python",
   "name": "python",
   "nbconvert_exporter": "python",
   "pygments_lexer": "ipython3",
   "version": "3.10.15"
  }
 },
 "nbformat": 4,
 "nbformat_minor": 2
}
