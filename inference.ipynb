{
 "cells": [
  {
   "cell_type": "code",
   "execution_count": null,
   "metadata": {},
   "outputs": [],
   "source": [
    "import torch\n",
    "from src.utils.parameters import load_parameters, instanciate_cls\n",
    "from src.models.classification import CLSModel\n",
    "from src.utils.decoders import softmax_decoder\n",
    "from src.utils.dataloaders import load_mnist_dataloader\n",
    "\n",
    "parameter_file ='./params/mnist.yaml'\n",
    "params = load_parameters(parameter_file)\n",
    "\n",
    "xp_params = params['experiment']['parameters']\n",
    "data_params = params['dataset']['parameters']\n",
    "net_params = params['network']['parameters']\n",
    "enc_params = params['encoder']['parameters']\n",
    "\n",
    "gpu = torch.cuda.is_available()\n",
    "\n",
    "DEVICE = \"cpu\"\n",
    "input_encoder = instanciate_cls(\n",
    "    params['encoder']['module'], params['encoder']['name'], enc_params)\n",
    "\n",
    "net = instanciate_cls('src.networks.classification',\n",
    "                        params['network']['name'], net_params)\n",
    "\n",
    "model = CLSModel(\n",
    "    encoder=input_encoder,\n",
    "    snn=net,\n",
    "    decoder=softmax_decoder\n",
    ").to(DEVICE)\n",
    "\n",
    "model.load_state_dict(torch.load(\"./logs/MNIST - 3b5e60ac/checkpoint.pth\", weights_only=True))\n",
    "model.eval()\n",
    "train_dl, test_dl, _ = load_mnist_dataloader('./data', image_size=data_params['resize'], batch_size=1, gpu=gpu)\n",
    "batch = train_dl.dataset[90]\n",
    "\n",
    "print('Input given is : {}'.format(batch[1]))\n",
    "output = model(batch[0])\n",
    "pred = output.argmax(dim=1, keepdim=True)\n",
    "print('Input predicted is : {}'.format(pred[0][0]))"
   ]
  },
  {
   "cell_type": "code",
   "execution_count": null,
   "metadata": {},
   "outputs": [],
   "source": []
  }
 ],
 "metadata": {
  "kernelspec": {
   "display_name": "norse",
   "language": "python",
   "name": "python3"
  },
  "language_info": {
   "codemirror_mode": {
    "name": "ipython",
    "version": 3
   },
   "file_extension": ".py",
   "mimetype": "text/x-python",
   "name": "python",
   "nbconvert_exporter": "python",
   "pygments_lexer": "ipython3",
   "version": "3.9.20"
  }
 },
 "nbformat": 4,
 "nbformat_minor": 2
}
