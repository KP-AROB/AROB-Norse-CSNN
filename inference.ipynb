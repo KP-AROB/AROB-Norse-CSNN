{
 "cells": [
  {
   "cell_type": "code",
   "execution_count": null,
   "metadata": {},
   "outputs": [
    {
     "ename": "TypeError",
     "evalue": "DoubleConvNet.__init__() got an unexpected keyword argument 'n_classes'",
     "output_type": "error",
     "traceback": [
      "\u001b[0;31m---------------------------------------------------------------------------\u001b[0m",
      "\u001b[0;31mTypeError\u001b[0m                                 Traceback (most recent call last)",
      "Cell \u001b[0;32mIn[1], line 17\u001b[0m\n\u001b[1;32m     12\u001b[0m gpu \u001b[38;5;241m=\u001b[39m torch\u001b[38;5;241m.\u001b[39mcuda\u001b[38;5;241m.\u001b[39mis_available()\n\u001b[1;32m     13\u001b[0m DEVICE \u001b[38;5;241m=\u001b[39m torch\u001b[38;5;241m.\u001b[39mdevice(\u001b[38;5;124m\"\u001b[39m\u001b[38;5;124mcuda\u001b[39m\u001b[38;5;124m\"\u001b[39m) \u001b[38;5;28;01mif\u001b[39;00m gpu \u001b[38;5;28;01melse\u001b[39;00m torch\u001b[38;5;241m.\u001b[39mdevice(\u001b[38;5;124m\"\u001b[39m\u001b[38;5;124mcpu\u001b[39m\u001b[38;5;124m\"\u001b[39m)\n\u001b[1;32m     15\u001b[0m model \u001b[38;5;241m=\u001b[39m CLSModel(\n\u001b[1;32m     16\u001b[0m     encoder\u001b[38;5;241m=\u001b[39mConstantCurrentLIFEncoder(seq_length\u001b[38;5;241m=\u001b[39mmax_latency), \n\u001b[0;32m---> 17\u001b[0m     snn\u001b[38;5;241m=\u001b[39m\u001b[43mDoubleConvNet\u001b[49m\u001b[43m(\u001b[49m\u001b[43malpha\u001b[49m\u001b[38;5;241;43m=\u001b[39;49m\u001b[38;5;241;43m80\u001b[39;49m\u001b[43m,\u001b[49m\u001b[43m \u001b[49m\u001b[43mn_classes\u001b[49m\u001b[43m \u001b[49m\u001b[38;5;241;43m=\u001b[39;49m\u001b[43m \u001b[49m\u001b[43mn_classes\u001b[49m\u001b[43m,\u001b[49m\u001b[43m \u001b[49m\u001b[43mfeature_size\u001b[49m\u001b[38;5;241;43m=\u001b[39;49m\u001b[43minput_size\u001b[49m\u001b[43m)\u001b[49m, \n\u001b[1;32m     18\u001b[0m     decoder\u001b[38;5;241m=\u001b[39msoftmax_decoder\n\u001b[1;32m     19\u001b[0m )\n",
      "\u001b[0;31mTypeError\u001b[0m: DoubleConvNet.__init__() got an unexpected keyword argument 'n_classes'"
     ]
    }
   ],
   "source": [
    "import torch\n",
    "from src.models.classification import CLSModel\n",
    "from src.networks.classification import DoubleConvNet\n",
    "from norse.torch import ConstantCurrentLIFEncoder\n",
    "from src.utils.decoders import softmax_decoder\n",
    "from src.utils.dataloaders import load_mnist_dataloader\n",
    "\n",
    "max_latency = 80\n",
    "n_classes = 10\n",
    "input_size = 28\n",
    "in_shape = [1, 28, 28]\n",
    "\n",
    "gpu = torch.cuda.is_available()\n",
    "DEVICE = torch.device(\"cuda\") if gpu else torch.device(\"cpu\")\n",
    "\n",
    "model = CLSModel(\n",
    "    encoder=ConstantCurrentLIFEncoder(seq_length=max_latency), \n",
    "    snn=DoubleConvNet(in_shape = in_shape, in_features=32, out_features=64, alpha=80, n_output = n_classes), \n",
    "    decoder=softmax_decoder\n",
    ")"
   ]
  },
  {
   "cell_type": "code",
   "execution_count": 28,
   "metadata": {},
   "outputs": [
    {
     "name": "stdout",
     "output_type": "stream",
     "text": [
      "\n",
      "# Available labels in dataset : {'0 - zero': 0, '1 - one': 1, '2 - two': 2, '3 - three': 3, '4 - four': 4, '5 - five': 5, '6 - six': 6, '7 - seven': 7, '8 - eight': 8, '9 - nine': 9}\n"
     ]
    }
   ],
   "source": [
    "model.load_state_dict(torch.load(\"./logs/MNIST - d898f1c7/checkpoint.pth\", weights_only=True))\n",
    "model.eval()\n",
    "train_dl, test_dl, _ = load_mnist_dataloader('./data', image_size=input_size, batch_size=1, gpu=gpu)\n",
    "batch = train_dl.dataset[10]"
   ]
  },
  {
   "cell_type": "code",
   "execution_count": 29,
   "metadata": {},
   "outputs": [
    {
     "name": "stdout",
     "output_type": "stream",
     "text": [
      "Input given is : 3\n",
      "Input predicted is : 3\n"
     ]
    }
   ],
   "source": [
    "print('Input given is : {}'.format(batch[1]))\n",
    "output = model(batch[0])\n",
    "pred = output.argmax(dim=1, keepdim=True)\n",
    "print('Input predicted is : {}'.format(pred[0][0]))"
   ]
  },
  {
   "cell_type": "code",
   "execution_count": null,
   "metadata": {},
   "outputs": [],
   "source": []
  }
 ],
 "metadata": {
  "kernelspec": {
   "display_name": "norse",
   "language": "python",
   "name": "python3"
  },
  "language_info": {
   "codemirror_mode": {
    "name": "ipython",
    "version": 3
   },
   "file_extension": ".py",
   "mimetype": "text/x-python",
   "name": "python",
   "nbconvert_exporter": "python",
   "pygments_lexer": "ipython3",
   "version": "3.10.15"
  }
 },
 "nbformat": 4,
 "nbformat_minor": 2
}
